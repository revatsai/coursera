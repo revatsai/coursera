{
 "cells": [
  {
   "attachments": {},
   "cell_type": "markdown",
   "metadata": {
    "deletable": false,
    "editable": false,
    "nbgrader": {
     "cell_type": "markdown",
     "checksum": "ab80976c194c2c1bfebb7f3a12fc4e58",
     "grade": false,
     "grade_id": "cell-018440ed2f1b6a62",
     "locked": true,
     "schema_version": 3,
     "solution": false
    }
   },
   "source": [
    "# Assignment 3\n",
    "All questions are weighted the same in this assignment. This assignment requires more individual learning then the last one did - you are encouraged to check out the [pandas documentation](http://pandas.pydata.org/pandas-docs/stable/) to find functions or methods you might not have used yet, or ask questions on [Stack Overflow](http://stackoverflow.com/) and tag them as pandas and python related. All questions are worth the same number of points except question 1 which is worth 17% of the assignment grade.\n",
    "\n",
    "**Note**: Questions 2-13 rely on your question 1 answer."
   ]
  },
  {
   "cell_type": "code",
   "execution_count": null,
   "metadata": {},
   "outputs": [],
   "source": [
    "import pandas as pd\n",
    "import numpy as np\n",
    "\n",
    "# Filter all warnings. If you would like to see the warnings, please comment the two lines below.\n",
    "import warnings\n",
    "warnings.filterwarnings('ignore')"
   ]
  },
  {
   "attachments": {},
   "cell_type": "markdown",
   "metadata": {
    "deletable": false,
    "editable": false,
    "nbgrader": {
     "cell_type": "markdown",
     "checksum": "2d8c745cdfcb8249a07e18dffb1b94ac",
     "grade": false,
     "grade_id": "cell-7e5190c7ff1f2e42",
     "locked": true,
     "schema_version": 3,
     "solution": false
    }
   },
   "source": [
    "### Question 1\n",
    "Load the energy data from the file `assets/Energy Indicators.xls`, which is a list of indicators of [energy supply and renewable electricity production](assets/Energy%20Indicators.xls) from the [United Nations](http://unstats.un.org/unsd/environment/excel_file_tables/2013/Energy%20Indicators.xls) for the year 2013, and should be put into a DataFrame with the variable name of **Energy**.\n",
    "\n",
    "Keep in mind that this is an Excel file, and not a comma separated values file. Also, make sure to exclude the footer and header information from the datafile. The first two columns are unneccessary, so you should get rid of them, and you should change the column labels so that the columns are:\n",
    "\n",
    "`['Country', 'Energy Supply', 'Energy Supply per Capita', '% Renewable']`\n",
    "\n",
    "Convert `Energy Supply` to gigajoules (**Note: there are 1,000,000 gigajoules in a petajoule**). For all countries which have missing data (e.g. data with \"...\") make sure this is reflected as `np.NaN` values.\n",
    "\n",
    "Rename the following list of countries (for use in later questions):\n",
    "\n",
    "```\"Republic of Korea\": \"South Korea\",\n",
    "\"United States of America\": \"United States\",\n",
    "\"United Kingdom of Great Britain and Northern Ireland\": \"United Kingdom\",\n",
    "\"China, Hong Kong Special Administrative Region\": \"Hong Kong\"```\n",
    "\n",
    "There are also several countries with parenthesis in their name. Be sure to remove these, e.g. `'Bolivia (Plurinational State of)'` should be `'Bolivia'`. Additionally, there are several countries with Numeric digits in their name. Make sure to remove these as well, e.g. `'Italy9'` should be `'Italy'`. \n",
    "\n",
    "Next, load the GDP data from the file `assets/world_bank.csv`, which is a csv containing countries' GDP from 1960 to 2015 from [World Bank](http://data.worldbank.org/indicator/NY.GDP.MKTP.CD). Call this DataFrame **GDP**. \n",
    "\n",
    "Make sure to skip the header, and rename the following list of countries:\n",
    "\n",
    "```\"Korea, Rep.\": \"South Korea\", \n",
    "\"Iran, Islamic Rep.\": \"Iran\",\n",
    "\"Hong Kong SAR, China\": \"Hong Kong\"```\n",
    "\n",
    "Finally, load the [Sciamgo Journal and Country Rank data for Energy Engineering and Power Technology](http://www.scimagojr.com/countryrank.php?category=2102) from the file `assets/scimagojr-3.xlsx`, which ranks countries based on their journal contributions in the aforementioned area. Call this DataFrame **ScimEn**.\n",
    "\n",
    "Join the three datasets: GDP, Energy, and ScimEn into a new dataset (using the intersection of country names). Use only the last 10 years (2006-2015) of GDP data and only the top 15 countries by Scimagojr 'Rank' (Rank 1 through 15). \n",
    "\n",
    "The index of this DataFrame should be the name of the country, and the columns should be \n",
    "       ['Rank', 'Documents', 'Citable documents', 'Citations', 'Self-citations',\n",
    "       'Citations per document', 'H index', 'Energy Supply',\n",
    "       'Energy Supply per Capita', '% Renewable', '2006', '2007', '2008',\n",
    "       '2009', '2010', '2011', '2012', '2013', '2014', '2015'].\n",
    "\n",
    "*This function should return a DataFrame with 20 columns and 15 entries, and the rows of the DataFrame should be sorted by \"Rank\".*"
   ]
  },
  {
   "cell_type": "code",
   "execution_count": null,
   "metadata": {},
   "outputs": [],
   "source": [
    "def convert_float(n):\n",
    "    try:\n",
    "        return np.float64(n)\n",
    "    except Exception as e:\n",
    "        return np.NAN\n",
    "\n",
    "def convert_int(n):\n",
    "    try:\n",
    "        return np.int32(n) * 1000000\n",
    "    except Exception as e:\n",
    "        return np.NAN\n",
    "\n",
    "\n",
    "def answer_one_ans():\n",
    "    # YOUR CODE HERE\n",
    "    energy_indicators_cols=['Country', 'Energy Supply', 'Energy Supply per Capita', '% Renewable']\n",
    "    Energy =pd.read_excel('assets/Energy Indicators.xls',\n",
    "                     sheet_name='Energy',\n",
    "                     names=energy_indicators_cols,\n",
    "                     header=None,\n",
    "                     skiprows=list(range(18)),\n",
    "                     skipfooter=38,\n",
    "                     usecols=[2,3,4,5],\n",
    "                     #index_col=0,\n",
    "                     skip_blank_lines=True,\n",
    "                     #na_values=['...'],\n",
    "                     #dtype={'Energy Supply per Capita':np.int32}\n",
    "                     converters={'Energy Supply':convert_int, \n",
    "                                 'Energy Supply per Capita':convert_float,\n",
    "                                 '% Renewable':convert_float\n",
    "                                }\n",
    "                    )\n",
    "    \n",
    "    Energy['Country']= Energy['Country'].str.replace(r\"\\s\\(.*\\)\",\"\") #  r\"^(Bolivia).*\":\"Bolivia\"\n",
    "    Energy['Country']= Energy['Country'].str.replace(r\"\\d*\",\"\")\n",
    "   \n",
    "    Energy= Energy.replace({\"Country\":{r\"^(Republic of Korea).*\": \"South Korea\",\n",
    "                               r'^(United States of America).*':'United States',\n",
    "                               r\"^(United Kingdom of Great Britain and Northern Ireland).*\": \"United Kingdom\",\n",
    "                               r\"^(China, Hong Kong Special Administrative Region).*\": \"Hong Kong\"\n",
    "                              }},regex=True)\n",
    "   \n",
    "\n",
    "    GDP = pd.read_csv('assets/world_bank.csv',skiprows=4)\n",
    "    GDP['Country Name'] = GDP['Country Name'].replace({\"Korea, Rep.\": \"South Korea\",\n",
    "                                                       \"Iran, Islamic Rep.\": \"Iran\",\n",
    "                                                       \"Hong Kong SAR, China\": \"Hong Kong\"})\n",
    "    GDP.rename(columns={\"Country Name\":\"Country\"},inplace=True)\n",
    "    GDP =GDP.loc[:,['2006', '2007', '2008', '2009', '2010', '2011', '2012', '2013', '2014', '2015','Country']]\n",
    "    \n",
    "    ScimEn = pd.read_excel('assets/scimagojr-3.xlsx')\n",
    "    \n",
    "    merge_ScimEn_Energy = pd.merge(ScimEn,Energy,how=\"inner\",left_on=\"Country\",right_on=\"Country\")\n",
    "    merge_ScimEn_Energy=  merge_ScimEn_Energy[merge_ScimEn_Energy['Rank']<=15]\n",
    "    \n",
    "    merge_ScimEn_Energy_GDP =pd.merge(merge_ScimEn_Energy,GDP,how=\"inner\",left_on=\"Country\",right_on=\"Country\").set_index(\"Country\")\n",
    "    #print(merge_ScimEn_Energy_GDP)\n",
    "   # print(ScimEn)\n",
    "    #print(Energy[Energy['Country']=='Iran'])\n",
    "    #df=df.replace(to_replace='United States of America20', value='United States', regex=True)\n",
    "    #df = pd.to_numeric(df['Energy Supply'], errors='coerce').dropna()\n",
    "    #print(df.head(9000))\n",
    "    #print(type(Energy))\n",
    "    #print(df[df['Country']=='Bolivia'])\n",
    "    #raise NotImplementedError()\n",
    "    return merge_ScimEn_Energy_GDP\n",
    "\n",
    "answer_one_ans()\n",
    "#answer_one().shape"
   ]
  },
  {
   "cell_type": "code",
   "execution_count": null,
   "metadata": {},
   "outputs": [],
   "source": [
    "def answer_one():\n",
    "        \n",
    "        # YOUR CODE HERE\n",
    "        import pandas as pd\n",
    "        import numpy as np\n",
    "        Energy=pd.read_excel('assets/Energy Indicators.xls')\n",
    "        Energy=pd.DataFrame(Energy)        \n",
    "        Energy=Energy.drop(Energy.index[246:]) \n",
    "        Energy=Energy.drop(Energy.index[:17])          \n",
    "        Energy=Energy.dropna(how='all')           \n",
    "        Energy=Energy.dropna(how='all',axis=1)    \n",
    "        del Energy['Unnamed: 1']               \n",
    "        Energy=Energy.rename(columns={'Unnamed: 2': 'Country','Unnamed: 3':'Energy Supply','Unnamed: 4':'Energy Supply per Capita','Unnamed: 5':'% Renewable'}) \n",
    "        Energy=Energy.replace('...',np.nan)       \n",
    "        Energy['Energy Supply']=Energy['Energy Supply'].apply(lambda x: x*1000000 )  \n",
    "        Energy['Country']=Energy['Country'].replace(regex=True,to_replace='[^a-z A-Z]',value='') \n",
    "        Energy['Country']=Energy['Country'].replace(['Republic of Korea','United States of America','United Kingdom of Great Britain and Northern Ireland','China Hong Kong Special Administrative Region','Bolivia Plurinational State of','Falkland Islands Malvinas','Iran Islamic Republic of','China Macao Special Administrative Region','Micronesia Federated States of','Republic of Moldova','Sint Maarten (Dutch part)','State of Palestine','The former Yugoslav Republic of Macedonia','Venezuela Bolivarian Republic of','United Republic of Tanzania'],['South Korea','United States','United Kingdom','Hong Kong','Bolivia','Falkland Islands','Iran','Macao','Micronesia','Moldova','Sint Maarten','Palestine','Yugoslav','Venezuela','Tanzania']) \n",
    "        Energy=Energy.set_index('Country')\n",
    "        GDP=pd.read_csv('assets/world_bank.csv')\n",
    "        GDP=GDP.drop(GDP.index[:4])\n",
    "        GDP=GDP.drop(GDP.columns[4:50], axis=1) \n",
    "        GDP=GDP.rename(columns={'Data Source': 'Country','World Development Indicators':'Country Code',\n",
    "                            'World Development Indicators':'Country Code',\n",
    "                            'Unnamed: 2':'Indicator Name',\n",
    "                            'Unnamed: 3':'Indicator Code',\n",
    "                            'Unnamed: 50':'2006',\n",
    "                            'Unnamed: 51':'2007',\n",
    "                            'Unnamed: 52':'2008',\n",
    "                            'Unnamed: 53':'2009',\n",
    "                            'Unnamed: 54':'2010',\n",
    "                            'Unnamed: 55':'2011',\n",
    "                            'Unnamed: 56':'2012',\n",
    "                            'Unnamed: 57':'2013',\n",
    "                            'Unnamed: 58':'2014',\n",
    "                            'Unnamed: 59':'2015'})\n",
    "        GDP['Country']=GDP['Country'].replace(['Korea, Rep.','Iran, Islamic Rep.','Hong Kong SAR, China'],['South Korea','Iran','Hong Kong']) \n",
    "        GDP=GDP.set_index('Country')\n",
    "        ScimEn=pd.read_excel('assets/scimagojr-3.xlsx')\n",
    "        ScimEn=ScimEn[ScimEn['Rank']<=15]\n",
    "        ScimEn.set_index('Country')\n",
    "        join_ScimEn_Energy=pd.merge(ScimEn,Energy, how='inner', on=['Country'])\n",
    "        Merged_all=pd.merge(join_ScimEn_Energy,GDP, how='inner', on=['Country'])\n",
    "        del Merged_all['Country Code']\n",
    "        del Merged_all['Indicator Name']\n",
    "        del Merged_all['Indicator Code']\n",
    "        Merged_all=Merged_all.set_index('Country')\n",
    "        return Merged_all\n",
    "    \n",
    "        \n",
    "        raise NotImplementedError()"
   ]
  },
  {
   "cell_type": "code",
   "execution_count": null,
   "metadata": {
    "deletable": false,
    "nbgrader": {
     "cell_type": "code",
     "checksum": "57e040f07954f979910eddc0f489ffe5",
     "grade": false,
     "grade_id": "cell-bce4d6f2ecdd1297",
     "locked": false,
     "schema_version": 3,
     "solution": true
    }
   },
   "outputs": [],
   "source": [
    "def answer_one():\n",
    "    Energy = pd.read_excel('./assets/Energy Indicators.xls',na_values = '...', header=17, skipfooter=38)\n",
    "    Energy.drop(Energy.iloc[:, :2], inplace=True, axis=1)\n",
    "    Energy.columns = ['Country', 'Energy Supply', 'Energy Supply per Capita', '% Renewable']\n",
    "    Energy['Energy Supply'] = Energy['Energy Supply'].apply(lambda x: x*1000000)\n",
    "    Energy.replace(to_replace=r'[\\d]+', value=r'', regex=True, inplace=True)\n",
    "    Energy.replace(to_replace=r'\\s([\\D]+\\))', value=r'', regex=True, inplace=True)\n",
    "    # Energy.replace(to_replace=r'\\s\\(.*\\))', value=r'', regex=True, inplace=True)\n",
    "    Energy.replace({'Country':{\"Republic of Korea\": \"South Korea\",\n",
    "                           \"United States of America\": \"United States\",\n",
    "                           \"United Kingdom of Great Britain and Northern Ireland\": \"United Kingdom\",\n",
    "                           \"China, Hong Kong Special Administrative Region\": \"Hong Kong\"}}, inplace=True)\n",
    "    Energy = Energy.set_index('Country')\n",
    "    GDP = pd.read_csv('./assets/world_bank.csv', header=4)\n",
    "    GDP.replace({'Country Name':{\"Korea, Rep.\": \"South Korea\", \n",
    "                                \"Iran, Islamic Rep.\": \"Iran\",\n",
    "                                \"Hong Kong SAR, China\": \"Hong Kong\"}}, inplace=True)\n",
    "    GDP.rename(columns={'Country Name': 'Country'}, inplace=True)\n",
    "    GDP.drop(GDP.iloc[:, 1:50], inplace=True, axis=1)\n",
    "    GDP = GDP.set_index('Country')\n",
    "    ScimEn = pd.read_excel('./assets/scimagojr-3.xlsx')\n",
    "    ScimEn = ScimEn.set_index('Country')\n",
    "    ScimEn_new = ScimEn[:15]\n",
    "    df = pd.merge(pd.merge(ScimEn_new, Energy, how='left', left_index=True, right_index=True), GDP, how='left', left_index=True, right_index=True)\n",
    "    return df\n",
    "    raise NotImplementedError()\n",
    "answer_one()"
   ]
  },
  {
   "cell_type": "code",
   "execution_count": null,
   "metadata": {},
   "outputs": [],
   "source": [
    "# 把前17行集後38行刪掉\n",
    "Energy = pd.read_excel('./assets/Energy Indicators.xls',na_values = '...', header=17, skipfooter=38)\n",
    "Energy.drop(Energy.iloc[:, :2], inplace=True, axis=1)\n",
    "# change the column label\n",
    "# Energy.rename(columns={'Unnamed: 2': 'Country', 'Unnamed: 3': 'Energy Supply', 'Unnamed: 4': 'Energy Supply per Capita', 'Unnamed: 5': '% Renewable'}, inplace = True)\n",
    "Energy.columns = ['Country', 'Energy Supply', 'Energy Supply per Capita', '% Renewable']\n",
    "Energy['Energy Supply'].apply(lambda x: x*1000000)\n",
    "# Energy[Energy['Country']=='China, Hong Kong Special Administrative Region3']\n",
    "Energy.replace(to_replace=r'[\\d]+', value=r'', regex=True, inplace=True)\n",
    "Energy.replace(to_replace=r'\\s([\\D]+\\))', value=r'', regex=True, inplace=True)\n",
    "# Energy[Energy['Country']=='China, Hong Kong Special Administrative Region']\n",
    "# Energy[Energy['Country']=='Bolivia']\n",
    "Energy.replace({'Country':{\"Republic of Korea\": \"South Korea\",\n",
    "                           \"United States of America\": \"United States\",\n",
    "                           \"United Kingdom of Great Britain and Northern Ireland\": \"United Kingdom\",\n",
    "                           \"China, Hong Kong Special Administrative Region\": \"Hong Kong\"}}, inplace=True)\n",
    "# df[df['Country']=='China, Hong Kong Special Administrative Region3']\n",
    "# Energy[Energy['Country']=='Hong Kong']\n",
    "Energy = Energy.set_index('Country')\n",
    "Energy"
   ]
  },
  {
   "cell_type": "code",
   "execution_count": null,
   "metadata": {},
   "outputs": [],
   "source": [
    "# import re\n",
    "# s = 'United States of America20'\n",
    "# re.findall(r'(.+?)\\d{1,3}', s)\n",
    "# re.findall(r'(.+?)\\d{1,2}', 'China, Hong Kong Special Administrative Region3')\n",
    "# s = 'Bolivia (Plurinational State of)'\n",
    "# re.findall(r'(.+?)\\s\\(', s)\n",
    "# df['Country1'] = df['Country'].str.extract(r'(.+?)\\d{1,2}')\n",
    "# df['Country'] = df['Country'].str.extract(r'(.+?)\\s\\(')"
   ]
  },
  {
   "cell_type": "code",
   "execution_count": null,
   "metadata": {},
   "outputs": [],
   "source": [
    "# df[df['Country']=='China, Hong Kong Special Administrative Region3']\n",
    "# Energy[Energy['Country']=='Hong Kong']"
   ]
  },
  {
   "cell_type": "code",
   "execution_count": null,
   "metadata": {},
   "outputs": [],
   "source": [
    "GDP = pd.read_csv('./assets/world_bank.csv', header=4) # 用第4列當index\n",
    "GDP.replace({'Country Name':{\"Korea, Rep.\": \"South Korea\", \n",
    "                                    \"Iran, Islamic Rep.\": \"Iran\",\n",
    "                                    \"Hong Kong SAR, China\": \"Hong Kong\"}}, inplace=True)\n",
    "# GDP[GDP['Country Name']=='Hong Kong']\n",
    "GDP.rename(columns={'Country Name': 'Country'}, inplace=True)\n",
    "GDP.drop(GDP.iloc[:, 1:50], inplace=True, axis=1)\n",
    "GDP = GDP.set_index('Country')\n",
    "GDP.head()"
   ]
  },
  {
   "cell_type": "code",
   "execution_count": null,
   "metadata": {},
   "outputs": [],
   "source": [
    "ScimEn = pd.read_excel('./assets/scimagojr-3.xlsx')\n",
    "ScimEn = ScimEn.set_index('Country')\n",
    "ScimEn_new = ScimEn[:15]\n",
    "ScimEn_new"
   ]
  },
  {
   "cell_type": "code",
   "execution_count": null,
   "metadata": {},
   "outputs": [],
   "source": [
    "pd.merge(pd.merge(ScimEn_new, Energy, how='left', left_index=True, right_index=True), GDP, how='left', left_index=True, right_index=True)"
   ]
  },
  {
   "cell_type": "code",
   "execution_count": null,
   "metadata": {
    "deletable": false,
    "editable": false,
    "nbgrader": {
     "cell_type": "code",
     "checksum": "7bcc18b325d2935427ac2566cddd3661",
     "grade": true,
     "grade_id": "cell-780b5a4da845dbc3",
     "locked": true,
     "points": 5,
     "schema_version": 3,
     "solution": false
    }
   },
   "outputs": [],
   "source": [
    "assert type(answer_one()) == pd.DataFrame, \"Q1: You should return a DataFrame!\"\n",
    "assert answer_one().shape == (15,20), \"Q1: Your DataFrame should have 20 columns and 15 entries!\""
   ]
  },
  {
   "cell_type": "code",
   "execution_count": null,
   "metadata": {
    "deletable": false,
    "editable": false,
    "nbgrader": {
     "cell_type": "code",
     "checksum": "e241830bcf3f63326b4c9cdf50be8f86",
     "grade": true,
     "grade_id": "cell-74b5f0b971379f64",
     "locked": true,
     "points": 10,
     "schema_version": 3,
     "solution": false
    }
   },
   "outputs": [],
   "source": [
    "# Cell for autograder.\n"
   ]
  },
  {
   "attachments": {},
   "cell_type": "markdown",
   "metadata": {
    "deletable": false,
    "editable": false,
    "nbgrader": {
     "cell_type": "markdown",
     "checksum": "596280cd22ed98c5540580c62954ec2f",
     "grade": false,
     "grade_id": "cell-babe0ff2a1fc6b17",
     "locked": true,
     "schema_version": 3,
     "solution": false
    }
   },
   "source": [
    "### Question 2\n",
    "The previous question joined three datasets then reduced this to just the top 15 entries. When you joined the datasets, but before you reduced this to the top 15 items, how many entries did you lose?\n",
    "\n",
    "*This function should return a single number.*"
   ]
  },
  {
   "cell_type": "code",
   "execution_count": null,
   "metadata": {},
   "outputs": [],
   "source": [
    "%%HTML\n",
    "<svg width=\"800\" height=\"300\">\n",
    "  <circle cx=\"150\" cy=\"180\" r=\"80\" fill-opacity=\"0.2\" stroke=\"black\" stroke-width=\"2\" fill=\"blue\" />\n",
    "  <circle cx=\"200\" cy=\"100\" r=\"80\" fill-opacity=\"0.2\" stroke=\"black\" stroke-width=\"2\" fill=\"red\" />\n",
    "  <circle cx=\"100\" cy=\"100\" r=\"80\" fill-opacity=\"0.2\" stroke=\"black\" stroke-width=\"2\" fill=\"green\" />\n",
    "  <line x1=\"150\" y1=\"125\" x2=\"300\" y2=\"150\" stroke=\"black\" stroke-width=\"2\" fill=\"black\" stroke-dasharray=\"5,3\"/>\n",
    "  <text x=\"300\" y=\"165\" font-family=\"Verdana\" font-size=\"35\">Everything but this!</text>\n",
    "</svg>"
   ]
  },
  {
   "cell_type": "code",
   "execution_count": null,
   "metadata": {},
   "outputs": [],
   "source": [
    "def answer_two_ans():\n",
    "    energy_indicators_cols=['Country', 'Energy Supply', 'Energy Supply per Capita', '% Renewable']\n",
    "    Energy =pd.read_excel('assets/Energy Indicators.xls',\n",
    "                     sheet_name='Energy',\n",
    "                     names=energy_indicators_cols,\n",
    "                     header=None,\n",
    "                     skiprows=list(range(18)),\n",
    "                     skipfooter=38,\n",
    "                     usecols=[2,3,4,5],\n",
    "                     #index_col=0,\n",
    "                     skip_blank_lines=True,\n",
    "                     #na_values=['...'],\n",
    "                     #dtype={'Energy Supply per Capita':np.int32}\n",
    "                     converters={'Energy Supply':convert_int, \n",
    "                                 'Energy Supply per Capita':convert_float,\n",
    "                                 '% Renewable':convert_float\n",
    "                                }\n",
    "                    ).dropna(how='all')\n",
    "    \n",
    "    Energy['Country']= Energy['Country'].str.replace(r\"\\s\\(.*\\)\",\"\") #  r\"^(Bolivia).*\":\"Bolivia\"\n",
    "    Energy['Country']= Energy['Country'].str.replace(r\"\\d*\",\"\")\n",
    "   \n",
    "    Energy= Energy.replace({\"Country\":{r\"^(Republic of Korea).*\": \"South Korea\",\n",
    "                               r'^(United States of America).*':'United States',\n",
    "                               r\"^(United Kingdom of Great Britain and Northern Ireland).*\": \"United Kingdom\",\n",
    "                               r\"^(China, Hong Kong Special Administrative Region).*\": \"Hong Kong\"\n",
    "                              }},regex=True)\n",
    "   \n",
    "    \n",
    "    \n",
    "    \n",
    "    GDP = pd.read_csv('assets/world_bank.csv',skiprows=4)\n",
    "    print(GDP.shape)\n",
    "    GDP['Country Name'] = GDP['Country Name'].replace({\"Korea, Rep.\": \"South Korea\",\n",
    "                                                       \"Iran, Islamic Rep.\": \"Iran\",\n",
    "                                                       \"Hong Kong SAR, China\": \"Hong Kong\"})\n",
    "    GDP.rename(columns={\"Country Name\":\"Country\"},inplace=True)\n",
    "    GDP =GDP.loc[:,['2006', '2007', '2008', '2009', '2010', '2011', '2012', '2013', '2014', '2015','Country']]\n",
    "    print(GDP.shape)\n",
    "    ScimEn = pd.read_excel('assets/scimagojr-3.xlsx')\n",
    "    print(ScimEn)\n",
    "    merge_ScimEn_Energy_inner = pd.merge(ScimEn,Energy,how=\"inner\",left_on=\"Country\",right_on=\"Country\")\n",
    "    merge_ScimEn_Energy_GDP_inner =pd.merge(merge_ScimEn_Energy_inner,GDP,how=\"inner\",left_on=\"Country\",right_on=\"Country\").set_index(\"Country\")\n",
    " \n",
    "    \n",
    "    merge_ScimEn_Energy_outer = pd.merge(ScimEn,Energy,how=\"outer\",left_on=\"Country\",right_on=\"Country\")\n",
    "    merge_ScimEn_Energy_GDP_outer =pd.merge(merge_ScimEn_Energy_outer,GDP,how=\"outer\",left_on=\"Country\",right_on=\"Country\").set_index(\"Country\")\n",
    "    print(len(merge_ScimEn_Energy_GDP_outer) ,  len(merge_ScimEn_Energy_GDP_inner))\n",
    "    return  len(merge_ScimEn_Energy_GDP_outer) -  len(merge_ScimEn_Energy_GDP_inner)\n",
    "    #raise NotImplementedError()\n",
    "answer_two_ans()"
   ]
  },
  {
   "cell_type": "code",
   "execution_count": null,
   "metadata": {
    "deletable": false,
    "nbgrader": {
     "cell_type": "code",
     "checksum": "aeeb01fb73054269dd7b818d0945e2f7",
     "grade": false,
     "grade_id": "cell-b0c3202c000aada4",
     "locked": false,
     "schema_version": 3,
     "solution": true
    }
   },
   "outputs": [],
   "source": [
    "def answer_two():\n",
    "    Energy = pd.read_excel('./assets/Energy Indicators.xls',na_values = '...', header=17, skipfooter=38)\n",
    "    Energy.drop(Energy.iloc[:, :2], inplace=True, axis=1)\n",
    "    Energy.columns = ['Country', 'Energy Supply', 'Energy Supply per Capita', '% Renewable']\n",
    "    Energy['Energy Supply'] = Energy['Energy Supply'].apply(lambda x: x*1000000)\n",
    "    Energy.replace(to_replace=r'[\\d]+', value=r'', regex=True, inplace=True)\n",
    "    Energy.replace(to_replace=r'\\s([\\D]+\\))', value=r'', regex=True, inplace=True)\n",
    "    Energy.replace({'Country':{\"Republic of Korea\": \"South Korea\",\n",
    "                               \"United States of America\": \"United States\",\n",
    "                               \"United Kingdom of Great Britain and Northern Ireland\": \"United Kingdom\",\n",
    "                               \"China, Hong Kong Special Administrative Region\": \"Hong Kong\"}}, inplace=True)\n",
    "    Energy = Energy.set_index('Country')\n",
    "    GDP = pd.read_csv('./assets/world_bank.csv', header=4)\n",
    "    GDP.replace({'Country Name':{\"Korea, Rep.\": \"South Korea\", \n",
    "                                 \"Iran, Islamic Rep.\": \"Iran\",\n",
    "                                 \"Hong Kong SAR, China\": \"Hong Kong\"}}, inplace=True)\n",
    "    GDP.rename(columns={'Country Name': 'Country'}, inplace=True)\n",
    "    GDP.drop(GDP.iloc[:, 1:50], inplace=True, axis=1)\n",
    "    GDP = GDP.set_index('Country')\n",
    "    ScimEn = pd.read_excel('./assets/scimagojr-3.xlsx')\n",
    "    ScimEn = ScimEn.set_index('Country')\n",
    "    inner = pd.merge(pd.merge(ScimEn, Energy, how='inner', left_index=True, right_index=True), GDP, how='inner', left_index=True, right_index=True)\n",
    "    outer = pd.merge(pd.merge(ScimEn, Energy, how='outer', left_index=True, right_index=True), GDP, how='outer', left_index=True, right_index=True)\n",
    "    return len(outer) - len(inner)\n",
    "    raise NotImplementedError()"
   ]
  },
  {
   "cell_type": "code",
   "execution_count": null,
   "metadata": {},
   "outputs": [],
   "source": [
    "Energy = pd.read_excel('./assets/Energy Indicators.xls',na_values = '...', header=17, skipfooter=38)\n",
    "Energy.drop(Energy.iloc[:, :2], inplace=True, axis=1)\n",
    "Energy.columns = ['Country', 'Energy Supply', 'Energy Supply per Capita', '% Renewable']\n",
    "Energy['Energy Supply'] = Energy['Energy Supply'].apply(lambda x: x*1000000)\n",
    "Energy.replace(to_replace=r'[\\d]+', value=r'', regex=True, inplace=True)\n",
    "Energy.replace(to_replace=r'\\s([\\D]+\\))', value=r'', regex=True, inplace=True)\n",
    "Energy.replace({'Country':{\"Republic of Korea\": \"South Korea\",\n",
    "                           \"United States of America\": \"United States\",\n",
    "                           \"United Kingdom of Great Britain and Northern Ireland\": \"United Kingdom\",\n",
    "                           \"China, Hong Kong Special Administrative Region\": \"Hong Kong\"}}, inplace=True)\n",
    "Energy = Energy.set_index('Country')\n",
    "Energy"
   ]
  },
  {
   "cell_type": "code",
   "execution_count": null,
   "metadata": {},
   "outputs": [],
   "source": [
    "GDP = pd.read_csv('./assets/world_bank.csv', header=4)\n",
    "GDP.replace({'Country Name':{\"Korea, Rep.\": \"South Korea\", \n",
    "                             \"Iran, Islamic Rep.\": \"Iran\",\n",
    "                             \"Hong Kong SAR, China\": \"Hong Kong\"}}, inplace=True)\n",
    "GDP.rename(columns={'Country Name': 'Country'}, inplace=True)\n",
    "GDP.drop(GDP.iloc[:, 1:50], inplace=True, axis=1)\n",
    "GDP = GDP.set_index('Country')\n",
    "GDP"
   ]
  },
  {
   "cell_type": "code",
   "execution_count": null,
   "metadata": {},
   "outputs": [],
   "source": [
    "ScimEn = pd.read_excel('./assets/scimagojr-3.xlsx')\n",
    "ScimEn = ScimEn.set_index('Country')\n",
    "# ScimEn_new = ScimEn[:15]\n",
    "ScimEn"
   ]
  },
  {
   "cell_type": "code",
   "execution_count": null,
   "metadata": {},
   "outputs": [],
   "source": [
    "inner = pd.merge(pd.merge(ScimEn, Energy, how='inner', left_index=True, right_index=True), GDP, how='inner', left_index=True, right_index=True)\n",
    "inner"
   ]
  },
  {
   "cell_type": "code",
   "execution_count": null,
   "metadata": {},
   "outputs": [],
   "source": [
    "outer = pd.merge(pd.merge(ScimEn, Energy, how='outer', left_index=True, right_index=True), GDP, how='outer', left_index=True, right_index=True)\n",
    "outer"
   ]
  },
  {
   "cell_type": "code",
   "execution_count": null,
   "metadata": {},
   "outputs": [],
   "source": [
    "merge_ScimEn_Energy = pd.merge(ScimEn_new, Energy, how='left', left_index=True, right_index=True)\n",
    "merge_ScimEn_Energy"
   ]
  },
  {
   "cell_type": "code",
   "execution_count": null,
   "metadata": {},
   "outputs": [],
   "source": [
    "pd.merge(merge_ScimEn_Energy, GDP, how='left', left_index=True, right_index=True)"
   ]
  },
  {
   "cell_type": "code",
   "execution_count": null,
   "metadata": {
    "deletable": false,
    "editable": false,
    "nbgrader": {
     "cell_type": "code",
     "checksum": "19759b4a6c03f34b647f66d343952619",
     "grade": true,
     "grade_id": "cell-be24cfcaa87ab071",
     "locked": true,
     "points": 6.66,
     "schema_version": 3,
     "solution": false
    }
   },
   "outputs": [],
   "source": [
    "assert type(answer_two()) == int, \"Q2: You should return an int number!\"\n"
   ]
  },
  {
   "attachments": {},
   "cell_type": "markdown",
   "metadata": {
    "deletable": false,
    "editable": false,
    "nbgrader": {
     "cell_type": "markdown",
     "checksum": "5af1b4f99cd383263130f4c00442a133",
     "grade": false,
     "grade_id": "cell-2e54816014e48c18",
     "locked": true,
     "schema_version": 3,
     "solution": false
    }
   },
   "source": [
    "### Question 3\n",
    "What are the top 15 countries for average GDP over the last 10 years?\n",
    "\n",
    "*This function should return a Series named `avgGDP` with 15 countries and their average GDP sorted in descending order.*"
   ]
  },
  {
   "cell_type": "code",
   "execution_count": null,
   "metadata": {},
   "outputs": [],
   "source": [
    "def answer_three_ans():\n",
    "    # YOUR CODE HERE\n",
    "    merge_ScimEn_Energy_GDP=answer_one()\n",
    "    return merge_ScimEn_Energy_GDP[['2006', '2007', '2008', '2009', '2010', '2011', '2012', '2013', '2014', '2015']].apply(np.mean,axis=1).sort_values(ascending = False)\n",
    "    #raise NotImplementedError()\n",
    "answer_three_ans()"
   ]
  },
  {
   "cell_type": "code",
   "execution_count": null,
   "metadata": {},
   "outputs": [],
   "source": [
    "df = answer_one()\n",
    "avgGDP = df.iloc[:, 10:].mean(axis=1).sort_values(ascending=False)\n",
    "avgGDP"
   ]
  },
  {
   "cell_type": "code",
   "execution_count": null,
   "metadata": {},
   "outputs": [],
   "source": [
    "type(avgGDP)"
   ]
  },
  {
   "cell_type": "code",
   "execution_count": null,
   "metadata": {},
   "outputs": [],
   "source": [
    "avgGDP.info"
   ]
  },
  {
   "cell_type": "code",
   "execution_count": null,
   "metadata": {},
   "outputs": [],
   "source": [
    "type(avgGDP.astype('float')) == pd.Series"
   ]
  },
  {
   "cell_type": "code",
   "execution_count": null,
   "metadata": {},
   "outputs": [],
   "source": [
    "type(avgGDP) == pd.Series"
   ]
  },
  {
   "cell_type": "code",
   "execution_count": null,
   "metadata": {},
   "outputs": [],
   "source": [
    "answer_three_ans().info"
   ]
  },
  {
   "cell_type": "code",
   "execution_count": null,
   "metadata": {},
   "outputs": [],
   "source": [
    "avgGDP.index[5]"
   ]
  },
  {
   "cell_type": "code",
   "execution_count": null,
   "metadata": {
    "deletable": false,
    "nbgrader": {
     "cell_type": "code",
     "checksum": "a3490fd71a46cecfa3da698e006fe729",
     "grade": false,
     "grade_id": "cell-8c3d74335c0d489a",
     "locked": false,
     "schema_version": 3,
     "solution": true
    }
   },
   "outputs": [],
   "source": [
    "def answer_three():\n",
    "    df = answer_one()\n",
    "    avgGDP = df.iloc[:, 10:].mean(axis=1).sort_values(ascending=False)\n",
    "    avgGDP = avgGDP.astype('float')\n",
    "    return avgGDP\n",
    "    raise NotImplementedError()"
   ]
  },
  {
   "cell_type": "code",
   "execution_count": null,
   "metadata": {},
   "outputs": [],
   "source": [
    "type(answer_three()) == pd.Series"
   ]
  },
  {
   "cell_type": "code",
   "execution_count": null,
   "metadata": {},
   "outputs": [],
   "source": [
    "type(answer_three()) == type(answer_three_ans())"
   ]
  },
  {
   "cell_type": "code",
   "execution_count": null,
   "metadata": {
    "deletable": false,
    "editable": false,
    "nbgrader": {
     "cell_type": "code",
     "checksum": "2f9c90ee07138f94c027c5d2f907ab13",
     "grade": true,
     "grade_id": "cell-aaaa11ef7d26f4cf",
     "locked": true,
     "points": 6.66,
     "schema_version": 3,
     "solution": false
    }
   },
   "outputs": [],
   "source": [
    "assert type(answer_three()) == pd.Series, \"Q3: You should return a Series!\"\n"
   ]
  },
  {
   "attachments": {},
   "cell_type": "markdown",
   "metadata": {},
   "source": [
    "### Question 4\n",
    "By how much had the GDP changed over the 10 year span for the country with the 6th largest average GDP?\n",
    "\n",
    "*This function should return a single number.*"
   ]
  },
  {
   "cell_type": "code",
   "execution_count": null,
   "metadata": {},
   "outputs": [],
   "source": [
    "avgGDP = df.iloc[:, 10:].mean(axis=1).sort_values(ascending=False)"
   ]
  },
  {
   "cell_type": "code",
   "execution_count": null,
   "metadata": {
    "deletable": false,
    "nbgrader": {
     "cell_type": "code",
     "checksum": "768a19bcc8adc6991fe5c757e95ba784",
     "grade": false,
     "grade_id": "cell-7f77d099e3e0bbee",
     "locked": false,
     "schema_version": 3,
     "solution": true
    }
   },
   "outputs": [],
   "source": [
    "def answer_four():\n",
    "    avgGDP = df.iloc[:, 10:].mean(axis=1).sort_values(ascending=False)\n",
    "    change = df.loc[avgGDP.index[5]]['2015'] - df.loc[avgGDP.index[5]]['2006']\n",
    "    return change\n",
    "    raise NotImplementedError()"
   ]
  },
  {
   "cell_type": "code",
   "execution_count": null,
   "metadata": {},
   "outputs": [],
   "source": [
    "answer_four()"
   ]
  },
  {
   "cell_type": "code",
   "execution_count": null,
   "metadata": {
    "deletable": false,
    "editable": false,
    "nbgrader": {
     "cell_type": "code",
     "checksum": "a7770c49cdfac4fa6368dfe8b39e6474",
     "grade": true,
     "grade_id": "cell-564dd8e5e24b0f83",
     "locked": true,
     "points": 6.66,
     "schema_version": 3,
     "solution": false
    }
   },
   "outputs": [],
   "source": [
    "# Cell for autograder.\n"
   ]
  },
  {
   "attachments": {},
   "cell_type": "markdown",
   "metadata": {
    "deletable": false,
    "editable": false,
    "nbgrader": {
     "cell_type": "markdown",
     "checksum": "ed6dbc94ff1b6268873413fee12741cd",
     "grade": false,
     "grade_id": "cell-617669111e38ca15",
     "locked": true,
     "schema_version": 3,
     "solution": false
    }
   },
   "source": [
    "### Question 5\n",
    "What is the mean energy supply per capita?\n",
    "\n",
    "*This function should return a single number.*"
   ]
  },
  {
   "cell_type": "code",
   "execution_count": null,
   "metadata": {
    "deletable": false,
    "nbgrader": {
     "cell_type": "code",
     "checksum": "cfd61a1735889e7ef20692ca0d28ddcb",
     "grade": false,
     "grade_id": "cell-58e79d558e982eef",
     "locked": false,
     "schema_version": 3,
     "solution": true
    }
   },
   "outputs": [],
   "source": [
    "def answer_five():\n",
    "    return df['Energy Supply per Capita'].mean()\n",
    "    raise NotImplementedError()"
   ]
  },
  {
   "cell_type": "code",
   "execution_count": null,
   "metadata": {},
   "outputs": [],
   "source": [
    "answer_five()"
   ]
  },
  {
   "cell_type": "code",
   "execution_count": null,
   "metadata": {
    "deletable": false,
    "editable": false,
    "nbgrader": {
     "cell_type": "code",
     "checksum": "9d61bf22656baeecc77f63d54448590e",
     "grade": true,
     "grade_id": "cell-30cc66180851638c",
     "locked": true,
     "points": 6.66,
     "schema_version": 3,
     "solution": false
    }
   },
   "outputs": [],
   "source": [
    "# Cell for autograder.\n"
   ]
  },
  {
   "attachments": {},
   "cell_type": "markdown",
   "metadata": {
    "deletable": false,
    "editable": false,
    "nbgrader": {
     "cell_type": "markdown",
     "checksum": "2c7a163ae96f56317756456b0d9d695b",
     "grade": false,
     "grade_id": "cell-5c11ddd12fd71b3f",
     "locked": true,
     "schema_version": 3,
     "solution": false
    }
   },
   "source": [
    "### Question 6\n",
    "What country has the maximum % Renewable and what is the percentage?\n",
    "\n",
    "*This function should return a tuple with the name of the country and the percentage.*"
   ]
  },
  {
   "cell_type": "code",
   "execution_count": null,
   "metadata": {},
   "outputs": [],
   "source": [
    "df = answer_one()\n",
    "max = df['% Renewable'].max()\n",
    "ans = df[df['% Renewable'] == max].index.values\n",
    "(ans[0], max)"
   ]
  },
  {
   "cell_type": "code",
   "execution_count": null,
   "metadata": {},
   "outputs": [],
   "source": [
    "df = answer_one()\n",
    "ans = df.sort_values(by='% Renewable',ascending=False).iloc[0]\n",
    "(ans.name, ans['% Renewable'])"
   ]
  },
  {
   "cell_type": "code",
   "execution_count": null,
   "metadata": {
    "deletable": false,
    "nbgrader": {
     "cell_type": "code",
     "checksum": "f8657f18c77eb0f752bca3cc48561da3",
     "grade": false,
     "grade_id": "cell-b6824b78e74619f9",
     "locked": false,
     "schema_version": 3,
     "solution": true
    }
   },
   "outputs": [],
   "source": [
    "def answer_six():\n",
    "    max = df['% Renewable'].max()\n",
    "    ans = df[df['% Renewable'] == max].index.values\n",
    "    return (ans[0], max)\n",
    "    raise NotImplementedError()"
   ]
  },
  {
   "cell_type": "code",
   "execution_count": null,
   "metadata": {
    "deletable": false,
    "editable": false,
    "nbgrader": {
     "cell_type": "code",
     "checksum": "f8b28b0a824a3b76a6244c1273648ccd",
     "grade": true,
     "grade_id": "cell-2bd201c5c7bdd80f",
     "locked": true,
     "points": 6.66,
     "schema_version": 3,
     "solution": false
    }
   },
   "outputs": [],
   "source": [
    "assert type(answer_six()) == tuple, \"Q6: You should return a tuple!\"\n",
    "\n",
    "assert type(answer_six()[0]) == str, \"Q6: The first element in your result should be the name of the country!\"\n"
   ]
  },
  {
   "attachments": {},
   "cell_type": "markdown",
   "metadata": {
    "deletable": false,
    "editable": false,
    "nbgrader": {
     "cell_type": "markdown",
     "checksum": "a7b561a486a28ee4ba80a40715617c6d",
     "grade": false,
     "grade_id": "cell-ddf52a85ad3d5a11",
     "locked": true,
     "schema_version": 3,
     "solution": false
    }
   },
   "source": [
    "### Question 7\n",
    "Create a new column that is the ratio of Self-Citations to Total Citations. \n",
    "What is the maximum value for this new column, and what country has the highest ratio?\n",
    "\n",
    "*This function should return a tuple with the name of the country and the ratio.*"
   ]
  },
  {
   "cell_type": "code",
   "execution_count": null,
   "metadata": {
    "deletable": false,
    "nbgrader": {
     "cell_type": "code",
     "checksum": "e4b1cc5e3deefd24be992fbee18d0e74",
     "grade": false,
     "grade_id": "cell-a4f39737f38aa53c",
     "locked": false,
     "schema_version": 3,
     "solution": true
    }
   },
   "outputs": [],
   "source": [
    "def answer_seven():\n",
    "    df['Citations Ratio'] = df['Self-citations'] / df['Citations']\n",
    "    ans = df.sort_values(by='Citations Ratio',ascending=False).iloc[0]\n",
    "    return (ans.name, ans['Citations Ratio'])\n",
    "    raise NotImplementedError()"
   ]
  },
  {
   "cell_type": "code",
   "execution_count": null,
   "metadata": {},
   "outputs": [],
   "source": [
    "answer_seven()"
   ]
  },
  {
   "cell_type": "code",
   "execution_count": null,
   "metadata": {
    "deletable": false,
    "editable": false,
    "nbgrader": {
     "cell_type": "code",
     "checksum": "ca448b3a16b65a3a08533cac736cc4d9",
     "grade": true,
     "grade_id": "cell-b7a163e9231b88c9",
     "locked": true,
     "points": 6.66,
     "schema_version": 3,
     "solution": false
    }
   },
   "outputs": [],
   "source": [
    "assert type(answer_seven()) == tuple, \"Q7: You should return a tuple!\"\n",
    "\n",
    "assert type(answer_seven()[0]) == str, \"Q7: The first element in your result should be the name of the country!\"\n"
   ]
  },
  {
   "attachments": {},
   "cell_type": "markdown",
   "metadata": {
    "deletable": false,
    "editable": false,
    "nbgrader": {
     "cell_type": "markdown",
     "checksum": "7be7b86ee7467539dd88746818c78c0e",
     "grade": false,
     "grade_id": "cell-5c89296ab6f94218",
     "locked": true,
     "schema_version": 3,
     "solution": false
    }
   },
   "source": [
    "### Question 8\n",
    "\n",
    "Create a column that estimates the population using Energy Supply and Energy Supply per capita. \n",
    "What is the third most populous country according to this estimate?\n",
    "\n",
    "*This function should return the name of the country*"
   ]
  },
  {
   "cell_type": "code",
   "execution_count": null,
   "metadata": {},
   "outputs": [],
   "source": [
    "df = answer_one()\n",
    "(df['Energy Supply'] / df['Energy Supply per Capita']).sort_values(ascending=False)"
   ]
  },
  {
   "cell_type": "code",
   "execution_count": null,
   "metadata": {
    "deletable": false,
    "nbgrader": {
     "cell_type": "code",
     "checksum": "9d733b2abf089b1931e2e792ff51d488",
     "grade": false,
     "grade_id": "cell-9ca58137846b84d6",
     "locked": false,
     "schema_version": 3,
     "solution": true
    }
   },
   "outputs": [],
   "source": [
    "def answer_eight():\n",
    "    df = answer_one()\n",
    "    return (df['Energy Supply'] / df['Energy Supply per Capita']).sort_values(ascending=False).index[2]\n",
    "    raise NotImplementedError()"
   ]
  },
  {
   "cell_type": "code",
   "execution_count": null,
   "metadata": {},
   "outputs": [],
   "source": [
    "answer_eight()"
   ]
  },
  {
   "cell_type": "code",
   "execution_count": null,
   "metadata": {
    "deletable": false,
    "editable": false,
    "nbgrader": {
     "cell_type": "code",
     "checksum": "ba2ad50cf8198767b0bd2f75b8d97e87",
     "grade": true,
     "grade_id": "cell-3f3620c88df08b20",
     "locked": true,
     "points": 0,
     "schema_version": 3,
     "solution": false
    }
   },
   "outputs": [],
   "source": [
    "assert type(answer_eight()) == str, \"Q8: You should return the name of the country!\"\n"
   ]
  },
  {
   "attachments": {},
   "cell_type": "markdown",
   "metadata": {
    "deletable": false,
    "editable": false,
    "nbgrader": {
     "cell_type": "markdown",
     "checksum": "164cba98164a1045db7de10dd37115c8",
     "grade": false,
     "grade_id": "cell-2065207e66e5ec01",
     "locked": true,
     "schema_version": 3,
     "solution": false
    }
   },
   "source": [
    "### Question 9\n",
    "Create a column that estimates the number of citable documents per person. \n",
    "What is the correlation between the number of citable documents per capita and the energy supply per capita? Use the `.corr()` method, (Pearson's correlation).\n",
    "\n",
    "*This function should return a single number.*\n",
    "\n",
    "*(Optional: Use the built-in function `plot9()` to visualize the relationship between Energy Supply per Capita vs. Citable docs per Capita)*"
   ]
  },
  {
   "cell_type": "code",
   "execution_count": null,
   "metadata": {
    "deletable": false,
    "nbgrader": {
     "cell_type": "code",
     "checksum": "94e06c4c3a9618b94dbb0e86913b546c",
     "grade": false,
     "grade_id": "cell-033679ea456bfb9d",
     "locked": false,
     "schema_version": 3,
     "solution": true
    }
   },
   "outputs": [],
   "source": [
    "def answer_nine():\n",
    "    Top15 = answer_one()\n",
    "    Top15['PopEst'] = Top15['Energy Supply'] / Top15['Energy Supply per Capita'] # PopEst: estimation of population\n",
    "    Top15['Citable docs per Capita'] = Top15['Citable documents'] / Top15['PopEst']\n",
    "    return Top15['Citable docs per Capita'].corr(Top15['Energy Supply per Capita'])\n",
    "    raise NotImplementedError()"
   ]
  },
  {
   "cell_type": "code",
   "execution_count": null,
   "metadata": {
    "deletable": false,
    "editable": false,
    "nbgrader": {
     "cell_type": "code",
     "checksum": "01a146bbcca0fa9c9c13e71ab52e710f",
     "grade": false,
     "grade_id": "cell-644824f6c708bf80",
     "locked": true,
     "schema_version": 3,
     "solution": false
    }
   },
   "outputs": [],
   "source": [
    "def plot9():\n",
    "    import matplotlib as plt\n",
    "    %matplotlib inline\n",
    "    \n",
    "    Top15 = answer_one()\n",
    "    Top15['PopEst'] = Top15['Energy Supply'] / Top15['Energy Supply per Capita']\n",
    "    Top15['Citable docs per Capita'] = Top15['Citable documents'] / Top15['PopEst']\n",
    "    Top15.plot(x='Citable docs per Capita', y='Energy Supply per Capita', kind='scatter', xlim=[0, 0.0006])"
   ]
  },
  {
   "cell_type": "code",
   "execution_count": null,
   "metadata": {
    "deletable": false,
    "editable": false,
    "nbgrader": {
     "cell_type": "code",
     "checksum": "8dced1dde88b6877f89bdec482870476",
     "grade": true,
     "grade_id": "cell-3cb5c699065a4a20",
     "locked": true,
     "points": 6.66,
     "schema_version": 3,
     "solution": false
    }
   },
   "outputs": [],
   "source": [
    "assert answer_nine() >= -1. and answer_nine() <= 1., \"Q9: A valid correlation should between -1 to 1!\"\n"
   ]
  },
  {
   "attachments": {},
   "cell_type": "markdown",
   "metadata": {
    "deletable": false,
    "editable": false,
    "nbgrader": {
     "cell_type": "markdown",
     "checksum": "8af5ffad89be1e5c6292438724d6f8d5",
     "grade": false,
     "grade_id": "cell-ad09765e29b91157",
     "locked": true,
     "schema_version": 3,
     "solution": false
    }
   },
   "source": [
    "### Question 10\n",
    "Create a new column with a 1 if the country's % Renewable value is at or above the median for all countries in the top 15, and a 0 if the country's % Renewable value is below the median.\n",
    "\n",
    "*This function should return a series named `HighRenew` whose index is the country name sorted in ascending order of rank.*"
   ]
  },
  {
   "cell_type": "code",
   "execution_count": null,
   "metadata": {
    "deletable": false,
    "nbgrader": {
     "cell_type": "code",
     "checksum": "340c06bd50a9a027a2190674cfb981b9",
     "grade": false,
     "grade_id": "cell-0fdf60e64bf1a4f9",
     "locked": false,
     "schema_version": 3,
     "solution": true
    }
   },
   "outputs": [],
   "source": [
    "def answer_ten():\n",
    "    median = df['% Renewable'].median()\n",
    "    df['HighRenew'] = df['% Renewable'].apply(lambda x: 0 if x < median else 1)\n",
    "    return df['HighRenew']\n",
    "    raise NotImplementedError()"
   ]
  },
  {
   "cell_type": "code",
   "execution_count": null,
   "metadata": {
    "deletable": false,
    "editable": false,
    "nbgrader": {
     "cell_type": "code",
     "checksum": "f624e6996eca5796eaf27fb4d0593175",
     "grade": true,
     "grade_id": "cell-b29a631fd9a7730f",
     "locked": true,
     "points": 6.66,
     "schema_version": 3,
     "solution": false
    }
   },
   "outputs": [],
   "source": [
    "assert type(answer_ten()) == pd.Series, \"Q10: You should return a Series!\"\n"
   ]
  },
  {
   "attachments": {},
   "cell_type": "markdown",
   "metadata": {
    "deletable": false,
    "editable": false,
    "nbgrader": {
     "cell_type": "markdown",
     "checksum": "52f682e7066791c34cd3b2402855cbf5",
     "grade": false,
     "grade_id": "cell-677c51ba711c3af7",
     "locked": true,
     "schema_version": 3,
     "solution": false
    }
   },
   "source": [
    "### Question 11\n",
    "Use the following dictionary to group the Countries by Continent, then create a DataFrame that displays the sample size (the number of countries in each continent bin), and the sum, mean, and std deviation for the estimated population of each country.\n",
    "\n",
    "```python\n",
    "ContinentDict  = {'China':'Asia', \n",
    "                  'United States':'North America', \n",
    "                  'Japan':'Asia', \n",
    "                  'United Kingdom':'Europe', \n",
    "                  'Russian Federation':'Europe', \n",
    "                  'Canada':'North America', \n",
    "                  'Germany':'Europe', \n",
    "                  'India':'Asia',\n",
    "                  'France':'Europe', \n",
    "                  'South Korea':'Asia', \n",
    "                  'Italy':'Europe', \n",
    "                  'Spain':'Europe', \n",
    "                  'Iran':'Asia',\n",
    "                  'Australia':'Australia', \n",
    "                  'Brazil':'South America'}\n",
    "```\n",
    "\n",
    "*This function should return a DataFrame with index named Continent `['Asia', 'Australia', 'Europe', 'North America', 'South America']` and columns `['size', 'sum', 'mean', 'std']`*"
   ]
  },
  {
   "cell_type": "code",
   "execution_count": null,
   "metadata": {
    "deletable": false,
    "nbgrader": {
     "cell_type": "code",
     "checksum": "b55846bc20cd01b0acbcb776504a766d",
     "grade": false,
     "grade_id": "cell-a5e0c0df27304f98",
     "locked": false,
     "schema_version": 3,
     "solution": true
    }
   },
   "outputs": [],
   "source": [
    "def answer_eleven():\n",
    "    ContinentDict  = {'China':'Asia', \n",
    "                      'United States':'North America', \n",
    "                      'Japan':'Asia', \n",
    "                      'United Kingdom':'Europe', \n",
    "                      'Russian Federation':'Europe', \n",
    "                      'Canada':'North America', \n",
    "                      'Germany':'Europe', \n",
    "                      'India':'Asia',\n",
    "                      'France':'Europe', \n",
    "                      'South Korea':'Asia', \n",
    "                      'Italy':'Europe', \n",
    "                      'Spain':'Europe', \n",
    "                      'Iran':'Asia',\n",
    "                      'Australia':'Australia', \n",
    "                      'Brazil':'South America'}\n",
    "    df = answer_one()\n",
    "    df['PopEst'] = df['Energy Supply'] / df['Energy Supply per Capita'] # PopEst: estimation of population\n",
    "    df['Continent']=pd.Series(ContinentDict)\n",
    "    return df.groupby('Continent')['PopEst'].agg([np.size,np.sum,np.mean,np.std])\n",
    "    raise NotImplementedError()"
   ]
  },
  {
   "cell_type": "code",
   "execution_count": null,
   "metadata": {},
   "outputs": [],
   "source": [
    "ContinentDict  = {'China':'Asia', \n",
    "                      'United States':'North America', \n",
    "                      'Japan':'Asia', \n",
    "                      'United Kingdom':'Europe', \n",
    "                      'Russian Federation':'Europe', \n",
    "                      'Canada':'North America', \n",
    "                      'Germany':'Europe', \n",
    "                      'India':'Asia',\n",
    "                      'France':'Europe', \n",
    "                      'South Korea':'Asia', \n",
    "                      'Italy':'Europe', \n",
    "                      'Spain':'Europe', \n",
    "                      'Iran':'Asia',\n",
    "                      'Australia':'Australia', \n",
    "                      'Brazil':'South America'}\n",
    "df = answer_one()\n",
    "df['PopEst'] = df['Energy Supply'] / df['Energy Supply per Capita'] # PopEst: estimation of population\n",
    "df['Continent']=pd.Series(ContinentDict)\n",
    "df.groupby('Continent')['PopEst'].agg([np.size,np.sum,np.mean,np.std])"
   ]
  },
  {
   "cell_type": "code",
   "execution_count": null,
   "metadata": {},
   "outputs": [],
   "source": [
    "list(df.groupby('Continent'))"
   ]
  },
  {
   "cell_type": "code",
   "execution_count": null,
   "metadata": {},
   "outputs": [],
   "source": [
    "list(df.groupby('Continent')['PopEst'])"
   ]
  },
  {
   "cell_type": "code",
   "execution_count": null,
   "metadata": {},
   "outputs": [],
   "source": [
    "df.groupby('Continent')['PopEst'].agg([np.size,np.sum,np.mean,np.std])"
   ]
  },
  {
   "cell_type": "code",
   "execution_count": null,
   "metadata": {
    "deletable": false,
    "editable": false,
    "nbgrader": {
     "cell_type": "code",
     "checksum": "233318097d9c94fdc87395c967da14c4",
     "grade": true,
     "grade_id": "cell-18d1a07971b25743",
     "locked": true,
     "points": 6.66,
     "schema_version": 3,
     "solution": false
    }
   },
   "outputs": [],
   "source": [
    "assert type(answer_eleven()) == pd.DataFrame, \"Q11: You should return a DataFrame!\"\n",
    "\n",
    "assert answer_eleven().shape[0] == 5, \"Q11: Wrong row numbers!\"\n",
    "\n",
    "assert answer_eleven().shape[1] == 4, \"Q11: Wrong column numbers!\"\n"
   ]
  },
  {
   "attachments": {},
   "cell_type": "markdown",
   "metadata": {
    "deletable": false,
    "editable": false,
    "nbgrader": {
     "cell_type": "markdown",
     "checksum": "78d9dbb8ff6e0a1ac1e0d16e026a7d98",
     "grade": false,
     "grade_id": "cell-fa26f5c1eac39c6c",
     "locked": true,
     "schema_version": 3,
     "solution": false
    }
   },
   "source": [
    "### Question 12\n",
    "Cut % Renewable into 5 bins. Group Top15 by the Continent, as well as these new % Renewable bins. How many countries are in each of these groups?\n",
    "\n",
    "*This function should return a Series with a MultiIndex of `Continent`, then the bins for `% Renewable`. Do not include groups with no countries.*"
   ]
  },
  {
   "cell_type": "code",
   "execution_count": null,
   "metadata": {
    "deletable": false,
    "nbgrader": {
     "cell_type": "code",
     "checksum": "27eb27ec7a3347530174f7047288a881",
     "grade": false,
     "grade_id": "cell-2ecd9a4076abd8f0",
     "locked": false,
     "schema_version": 3,
     "solution": true
    }
   },
   "outputs": [],
   "source": [
    "def answer_twelve():\n",
    "    ContinentDict = {'China':'Asia', \n",
    "                     'United States':'North America', \n",
    "                     'Japan':'Asia', \n",
    "                     'United Kingdom':'Europe', \n",
    "                     'Russian Federation':'Europe', \n",
    "                     'Canada':'North America', \n",
    "                     'Germany':'Europe', \n",
    "                     'India':'Asia',\n",
    "                     'France':'Europe', \n",
    "                     'South Korea':'Asia', \n",
    "                     'Italy':'Europe', \n",
    "                     'Spain':'Europe', \n",
    "                     'Iran':'Asia',\n",
    "                     'Australia':'Australia', \n",
    "                     'Brazil':'South America'}\n",
    "    df = answer_one()\n",
    "    df['Continent']=pd.Series(ContinentDict)\n",
    "    df.reset_index(inplace=True)\n",
    "    df['% Renewable']=pd.cut(df['% Renewable'],5)\n",
    "    return df.groupby(['Continent','% Renewable'])['Country'].agg(np.size).fillna(value=0)\n",
    "    raise NotImplementedError()\n"
   ]
  },
  {
   "cell_type": "code",
   "execution_count": null,
   "metadata": {},
   "outputs": [],
   "source": [
    "ContinentDict = {'China':'Asia', \n",
    "                 'United States':'North America', \n",
    "                 'Japan':'Asia', \n",
    "                 'United Kingdom':'Europe', \n",
    "                 'Russian Federation':'Europe', \n",
    "                 'Canada':'North America', \n",
    "                 'Germany':'Europe', \n",
    "                 'India':'Asia',\n",
    "                 'France':'Europe', \n",
    "                 'South Korea':'Asia', \n",
    "                 'Italy':'Europe', \n",
    "                 'Spain':'Europe', \n",
    "                 'Iran':'Asia',\n",
    "                 'Australia':'Australia', \n",
    "                 'Brazil':'South America'}\n",
    "df = answer_one()\n",
    "df['Continent']=pd.Series(ContinentDict)\n",
    "df.reset_index(inplace=True)\n",
    "df['% Renewable']=pd.cut(df['% Renewable'],5)\n",
    "df.groupby(['Continent','% Renewable'])['Country'].agg(np.size).fillna(value=0)"
   ]
  },
  {
   "cell_type": "code",
   "execution_count": null,
   "metadata": {},
   "outputs": [],
   "source": [
    "df['Energy Supply']"
   ]
  },
  {
   "cell_type": "code",
   "execution_count": null,
   "metadata": {},
   "outputs": [],
   "source": [
    "df['% Renewable']=pd.cut(df['% Renewable'],5)"
   ]
  },
  {
   "cell_type": "code",
   "execution_count": null,
   "metadata": {},
   "outputs": [],
   "source": [
    "df['% Renewable']"
   ]
  },
  {
   "cell_type": "code",
   "execution_count": null,
   "metadata": {},
   "outputs": [],
   "source": [
    "list(df.groupby(['Continent','% Renewable']))"
   ]
  },
  {
   "cell_type": "code",
   "execution_count": null,
   "metadata": {},
   "outputs": [],
   "source": [
    "df.groupby(['Continent','% Renewable'])['Country'].agg(np.size).fillna(value=0) # How many countries are in each of these groups?"
   ]
  },
  {
   "cell_type": "code",
   "execution_count": null,
   "metadata": {},
   "outputs": [],
   "source": [
    "# df.groupby(['Continent','% Renewable'])['Continent'].agg(np.size).dropna()"
   ]
  },
  {
   "cell_type": "code",
   "execution_count": null,
   "metadata": {
    "deletable": false,
    "editable": false,
    "nbgrader": {
     "cell_type": "code",
     "checksum": "48903ccc73403827b7ddbb155783ea14",
     "grade": true,
     "grade_id": "cell-6c665602d6babab9",
     "locked": true,
     "points": 6.66,
     "schema_version": 3,
     "solution": false
    }
   },
   "outputs": [],
   "source": [
    "assert type(answer_twelve()) == pd.Series, \"Q12: You should return a Series!\"\n",
    "\n",
    "assert len(answer_twelve()) == 25, \"Q12: Wrong result numbers!\"\n"
   ]
  },
  {
   "attachments": {},
   "cell_type": "markdown",
   "metadata": {
    "deletable": false,
    "editable": false,
    "nbgrader": {
     "cell_type": "markdown",
     "checksum": "bdfd9b1bb897304b6337fdc47a05967c",
     "grade": false,
     "grade_id": "cell-4209a10d8f208739",
     "locked": true,
     "schema_version": 3,
     "solution": false
    }
   },
   "source": [
    "### Question 13\n",
    "Convert the Population Estimate series to a string with thousands separator (using commas). Use all significant digits (do not round the results).\n",
    "\n",
    "e.g. 12345678.90 -> 12,345,678.90\n",
    "\n",
    "*This function should return a series `PopEst` whose index is the country name and whose values are the population estimate string*"
   ]
  },
  {
   "cell_type": "code",
   "execution_count": null,
   "metadata": {},
   "outputs": [],
   "source": [
    "# round to two decimal places in python pandas \n",
    "# pd.options.display.float_format = '{:.2f}'.format\n",
    "\n",
    "# Format with commas and round off to two decimal places in pandas \n",
    "# pd.options.display.float_format = '{:, .2f}'.format\n",
    "\n",
    "# Format with dollars, commas and round off \n",
    "# to two decimal places in pandas \n",
    "# pd.options.display.float_format = '${:, .2f}'.format"
   ]
  },
  {
   "cell_type": "code",
   "execution_count": null,
   "metadata": {
    "deletable": false,
    "nbgrader": {
     "cell_type": "code",
     "checksum": "1efd09964334b7d6100d81d4b3ead3e9",
     "grade": false,
     "grade_id": "cell-58eb0ee0921d93fb",
     "locked": false,
     "schema_version": 3,
     "solution": true
    }
   },
   "outputs": [],
   "source": [
    "def answer_thirteen():\n",
    "    df = answer_one()\n",
    "    df['PopEst']= df['Energy Supply'] / df['Energy Supply per Capita']\n",
    "    return df['PopEst'].apply('{:,}'.format)\n",
    "    raise NotImplementedError()\n",
    "answer_thirteen()"
   ]
  },
  {
   "cell_type": "code",
   "execution_count": null,
   "metadata": {
    "deletable": false,
    "editable": false,
    "nbgrader": {
     "cell_type": "code",
     "checksum": "e014781df77c7edab2a181d2d943be8f",
     "grade": true,
     "grade_id": "cell-10fee7228cf973f6",
     "locked": true,
     "points": 6.74,
     "schema_version": 3,
     "solution": false
    }
   },
   "outputs": [],
   "source": [
    "assert type(answer_thirteen()) == pd.Series, \"Q13: You should return a Series!\"\n",
    "\n",
    "assert len(answer_thirteen()) == 15, \"Q13: Wrong result numbers!\"\n"
   ]
  },
  {
   "attachments": {},
   "cell_type": "markdown",
   "metadata": {
    "deletable": false,
    "editable": false,
    "nbgrader": {
     "cell_type": "markdown",
     "checksum": "61562b9b667bd5efbcec0dcd7becbfaa",
     "grade": false,
     "grade_id": "cell-998b62d4f390ef15",
     "locked": true,
     "schema_version": 3,
     "solution": false
    }
   },
   "source": [
    "### Optional\n",
    "\n",
    "Use the built in function `plot_optional()` to see an example visualization."
   ]
  },
  {
   "cell_type": "code",
   "execution_count": null,
   "metadata": {
    "deletable": false,
    "editable": false,
    "nbgrader": {
     "cell_type": "code",
     "checksum": "479786c97cb5f34d07231c6d7c602a47",
     "grade": false,
     "grade_id": "cell-741fd55ea57cd40a",
     "locked": true,
     "schema_version": 3,
     "solution": false
    }
   },
   "outputs": [],
   "source": [
    "def plot_optional():\n",
    "    import matplotlib as plt\n",
    "    %matplotlib inline\n",
    "    Top15 = answer_one()\n",
    "    ax = Top15.plot(x='Rank', y='% Renewable', kind='scatter', \n",
    "                    c=['#e41a1c','#377eb8','#e41a1c','#4daf4a','#4daf4a','#377eb8','#4daf4a','#e41a1c',\n",
    "                       '#4daf4a','#e41a1c','#4daf4a','#4daf4a','#e41a1c','#dede00','#ff7f00'], \n",
    "                    xticks=range(1,16), s=6*Top15['2014']/10**10, alpha=.75, figsize=[16,6]);\n",
    "\n",
    "    for i, txt in enumerate(Top15.index):\n",
    "        ax.annotate(txt, [Top15['Rank'][i], Top15['% Renewable'][i]], ha='center')\n",
    "\n",
    "    print(\"This is an example of a visualization that can be created to help understand the data. \\\n",
    "This is a bubble chart showing % Renewable vs. Rank. The size of the bubble corresponds to the countries' \\\n",
    "2014 GDP, and the color corresponds to the continent.\")"
   ]
  }
 ],
 "metadata": {
  "anaconda-cloud": {},
  "kernelspec": {
   "display_name": "Python 3 (ipykernel)",
   "language": "python",
   "name": "python3"
  },
  "language_info": {
   "codemirror_mode": {
    "name": "ipython",
    "version": 3
   },
   "file_extension": ".py",
   "mimetype": "text/x-python",
   "name": "python",
   "nbconvert_exporter": "python",
   "pygments_lexer": "ipython3",
   "version": "3.9.17"
  }
 },
 "nbformat": 4,
 "nbformat_minor": 4
}
